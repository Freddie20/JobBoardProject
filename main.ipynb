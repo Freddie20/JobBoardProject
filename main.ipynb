{
 "cells": [
  {
   "cell_type": "code",
   "execution_count": 6,
   "metadata": {},
   "outputs": [
    {
     "name": "stdout",
     "output_type": "stream",
     "text": [
      "{'title': 'Education Content Developer', 'link': 'https://jobs.smartrecruiters.com/Renaissance/744000010443375-education-content-developer'}\n",
      "{'title': 'Microsoft 365 Enablement Specialist', 'link': 'https://jobs.smartrecruiters.com/Renaissance/744000010202055-microsoft-365-enablement-specialist'}\n",
      "{'title': 'Revenue Enablement Program Manager', 'link': 'https://jobs.smartrecruiters.com/Renaissance/744000010007718-revenue-enablement-program-manager'}\n",
      "{'title': 'Director of Sales Enablement', 'link': 'https://jobs.smartrecruiters.com/Renaissance/744000009957153-director-of-sales-enablement'}\n",
      "{'title': 'Software Engineering Manager', 'link': 'https://jobs.smartrecruiters.com/Renaissance/744000009047432-software-engineering-manager'}\n",
      "{'title': 'Senior Director Product Management -Platform', 'link': 'https://jobs.smartrecruiters.com/Renaissance/744000008826115-senior-director-product-management-platform'}\n"
     ]
    }
   ],
   "source": [
    "from selenium import webdriver\n",
    "from selenium.webdriver.common.by import By\n",
    "from selenium.webdriver.chrome.service import Service\n",
    "from selenium.webdriver.chrome.options import Options\n",
    "from bs4 import BeautifulSoup\n",
    "import time\n",
    "\n",
    "# Initialize WebDriver with ChromeDriver\n",
    "options = Options()\n",
    "options.headless = True  # Run in headless mode\n",
    "driver_path = \"/Users/freDelicious/Documents/chromedriver\"  # Update the path to your Chromedriver\n",
    "service = Service(driver_path)\n",
    "driver = webdriver.Chrome(service=service, options=options)\n",
    "\n",
    "def scrape_renaissance_jobs(url):\n",
    "    driver.get(url)\n",
    "    time.sleep(5)  # Let the page load\n",
    "\n",
    "    soup = BeautifulSoup(driver.page_source, 'html.parser')\n",
    "    \n",
    "    # Find all job listing items\n",
    "    jobs = soup.find_all('li', class_='opening-job job column wide-1of2 medium-1of2')\n",
    "    \n",
    "    job_data = []\n",
    "    \n",
    "    if not jobs:\n",
    "        print(f\"No job listings found on {url}.\")\n",
    "        return []\n",
    "    \n",
    "    for job in jobs:\n",
    "        title = job.find('h4', class_='details-title job-title link--block-target').text.strip()\n",
    "        link = job.find('a', class_='link--block details')['href'].strip()\n",
    "        \n",
    "        # Collect job data\n",
    "        job_data.append({\n",
    "            \"title\": title,\n",
    "            \"link\": link,\n",
    "        })\n",
    "    \n",
    "    return job_data\n",
    "\n",
    "# Test the scraper\n",
    "url = \"https://careers.smartrecruiters.com/Renaissance?search=remote&remoteLocation=true\"\n",
    "jobs = scrape_renaissance_jobs(url)\n",
    "\n",
    "if jobs:\n",
    "    for job in jobs:\n",
    "        print(job)\n",
    "else:\n",
    "    print(\"No jobs found.\")\n",
    "\n",
    "# Quit the driver\n",
    "driver.quit()"
   ]
  },
  {
   "cell_type": "code",
   "execution_count": null,
   "metadata": {},
   "outputs": [],
   "source": []
  }
 ],
 "metadata": {
  "kernelspec": {
   "display_name": "spark_env",
   "language": "python",
   "name": "python3"
  },
  "language_info": {
   "codemirror_mode": {
    "name": "ipython",
    "version": 3
   },
   "file_extension": ".py",
   "mimetype": "text/x-python",
   "name": "python",
   "nbconvert_exporter": "python",
   "pygments_lexer": "ipython3",
   "version": "3.10.13"
  }
 },
 "nbformat": 4,
 "nbformat_minor": 2
}
